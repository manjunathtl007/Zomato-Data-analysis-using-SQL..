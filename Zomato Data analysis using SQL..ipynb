{
 "cells": [
  {
   "cell_type": "markdown",
   "id": "869d4d29",
   "metadata": {
    "deletable": false,
    "editable": false,
    "run_control": {
     "frozen": true
    }
   },
   "source": [
    "## Food Delivery App Data Analysis\n",
    "In the world of culinary delights and gastronomic adventures, the Zomato dataset project takes center stage. Just as millions of food enthusiasts use the Zomato platform to satisfy their culinary cravings, you step into the role of a data maestro, ready to unlock the secrets hidden within this treasure trove of information.\n",
    "\n",
    "Your journey in this project begins with a task as vital as preparing the finest ingredients for a gourmet meal—cleaning the dataset. Much like a skilled chef ensuring that every component is pristine and ready for the culinary masterpiece, you meticulously clean and prepare the data. It's about setting the stage for a culinary data symphony.\n",
    "\n",
    "Once the dataset is impeccably prepped, you delve into the heart of this gastronomic world—the analysis. You become the culinary critic of data, deciphering what makes a restaurant shine, identifying trends in dining preferences, and uncovering the secrets behind customer choices. It's about distilling raw data into flavorful insights.\n",
    "\n",
    "As the project unfolds, you become the unsung hero behind the scenes. Just like in a bustling kitchen where chefs work tirelessly to create unforgettable dishes, your work enhances the Zomato experience for users and restaurant owners alike. Your insights help restaurants refine their offerings, and diners discover the perfect place to satisfy their cravings.\n",
    "\n",
    "In this world of data-driven gastronomy, you are the master chef, the data virtuoso, and the storyteller. Your dedication to cleaning, analyzing, and visualizing the Zomato dataset contributes to the magic of discovering new culinary delights and makes every dining experience that much more extraordinary."
   ]
  },
  {
   "cell_type": "markdown",
   "id": "bdc2babd",
   "metadata": {
    "deletable": false,
    "editable": false,
    "run_control": {
     "frozen": true
    }
   },
   "source": [
    "## Module 1\n",
    "### Task 1: Data Download, Import, and Database Connection."
   ]
  },
  {
   "cell_type": "code",
   "execution_count": 2,
   "id": "268e2939",
   "metadata": {},
   "outputs": [
    {
     "name": "stdout",
     "output_type": "stream",
     "text": [
      "The sql extension is already loaded. To reload it, use:\n",
      "  %reload_ext sql\n"
     ]
    }
   ],
   "source": [
    "# -- Load the sql extention ----\n",
    "%load_ext sql\n",
    "\n",
    "# --- Load your mysql db using credentials from the \"DB\" area ---\n",
    "%sql mysql+pymysql://<user>:<password>@localhost/<db_name>"
   ]
  },
  {
   "cell_type": "markdown",
   "id": "d1a8243f",
   "metadata": {
    "deletable": false,
    "editable": false,
    "run_control": {
     "frozen": true
    }
   },
   "source": [
    "\n",
    "### Task 2: The Top 5 Culinary Champions in the Delivery World\n",
    "Our exploration of Zomato's culinary galaxy brings us to the exciting world of food delivery. With a carefully crafted SQL query, we've identified the top 5 culinary champions in the 'Delivery' category, selecting their names, votes, and ratings. These restaurants have earned their place by delighting diners and consistently delivering exceptional flavors to their doorstep. Join us as we celebrate these culinary stars who have mastered the art of delivering not just meals but memorable dining experiences to food enthusiasts everywhere."
   ]
  },
  {
   "cell_type": "code",
   "execution_count": null,
   "id": "be85c3ea",
   "metadata": {},
   "outputs": [],
   "source": [
    "%%sql\n",
    "select name, votes, rating from zomato where type='Delivery' order by votes desc limit 5;"
   ]
  },
  {
   "cell_type": "markdown",
   "id": "efd8a8e7",
   "metadata": {
    "deletable": false,
    "editable": false,
    "run_control": {
     "frozen": true
    }
   },
   "source": [
    "### Task 3: Banashankari's Flavorful Finest: Top 5 Delivery Delights.\n",
    "Our Zomato journey lands us in Banashankari, a neighborhood alive with culinary treasures and the convenience of food delivery. With a finely-tuned SQL query, we've unearthed the top 5 dining gems in this locale, known for both their exceptional ratings and delivery prowess.\n",
    "\n",
    "These restaurants, carefully chosen based on name, rating, location, and type, are the epitome of culinary excellence in Banashankari. With ratings in descending order, they promise not just meals but exquisite dining experiences brought straight to your door."
   ]
  },
  {
   "cell_type": "code",
   "execution_count": null,
   "id": "0efe6d58",
   "metadata": {},
   "outputs": [],
   "source": [
    "%%sql\n",
    "select name, rating,location,type from zomato where location='Banashankari'and type='Delivery' order by rating desc limit 5;"
   ]
  },
  {
   "cell_type": "markdown",
   "id": "3f6796f0",
   "metadata": {
    "deletable": false,
    "editable": false,
    "run_control": {
     "frozen": true
    }
   },
   "source": [
    "### Task 4: Exploring Culinary Extremes in Indiranagar.\n",
    "Our Zomato expedition now takes us to the vibrant neighborhood of Indiranagar, where we aim to uncover the culinary spectrum from affordable to luxurious. With a series of precise SQL queries, we embark on this journey.\n",
    "\n",
    "First, we set @mincost to capture the rating of the restaurant offering the most budget-friendly dining experience in Indiranagar. Then, we identify @maxcost to represent the rating of the restaurant with the highest-priced offerings."
   ]
  },
  {
   "cell_type": "code",
   "execution_count": null,
   "id": "8051d640",
   "metadata": {},
   "outputs": [],
   "source": [
    "%%sql\n",
    "SELECT\n",
    "(SELECT rating\n",
    "FROM zomato\n",
    "WHERE location='Indiranagar'\n",
    "AND approx_cost = (SELECT MIN(approx_cost) FROM zomato WHERE location='Indiranagar')\n",
    "LIMIT 1) AS rating1,\n",
    "(SELECT rating\n",
    "FROM zomato\n",
    "WHERE location='Indiranagar'\n",
    "AND approx_cost = (SELECT MAX(approx_cost) FROM zomato WHERE location='Indiranagar')\n",
    "LIMIT 1) AS rating2;"
   ]
  },
  {
   "cell_type": "markdown",
   "id": "951df559",
   "metadata": {
    "deletable": false,
    "editable": false,
    "run_control": {
     "frozen": true
    }
   },
   "source": [
    "### Task 5: Online Orders and the Pulse of Public Opinion.\n",
    "Our exploration of Zomato's culinary dataset now turns its focus to the world of online ordering. This phase of our journey delves into the choices diners make when it comes to ordering food digitally.\n",
    "\n",
    "With data analysis as our guide, we seek to uncover the nuances and trends in dining preferences. By grouping and categorizing restaurants based on their online order availability, we gain insights into how this convenience impacts the culinary landscape."
   ]
  },
  {
   "cell_type": "code",
   "execution_count": null,
   "id": "f19f1a55",
   "metadata": {},
   "outputs": [],
   "source": [
    "%%sql\n",
    "\n",
    "select sum(votes) total_votes, online_order from zomato group by online_order;"
   ]
  },
  {
   "cell_type": "markdown",
   "id": "060d46db",
   "metadata": {
    "deletable": false,
    "editable": false,
    "run_control": {
     "frozen": true
    }
   },
   "source": [
    "### Task 6: Exploring Restaurant Types and Their Impact.\n",
    "In our Zomato data journey, we're on a mission to unravel the diverse world of restaurant types and their influence on the dining landscape. With an insightful SQL query, we've embarked on a quest to understand the restaurant ecosystem.\n",
    "\n",
    "Our query provides a glimpse into this vibrant culinary tapestry by categorizing and counting restaurants based on their types. We're not just tallying numbers; we're shedding light on the sheer variety of dining experiences."
   ]
  },
  {
   "cell_type": "code",
   "execution_count": null,
   "id": "8e82c368",
   "metadata": {},
   "outputs": [],
   "source": [
    "%%sql\n",
    "\n",
    "select type,count(type) as number_of_restaurants,sum(votes) as total_votes,avg(rating)as avg_rating from zomato group by type order by total_votes DESC limit 1,10;"
   ]
  },
  {
   "cell_type": "markdown",
   "id": "c8d065de",
   "metadata": {
    "deletable": false,
    "editable": false,
    "run_control": {
     "frozen": true
    }
   },
   "source": [
    "### Task 7: The Pinnacle of Online Dining.\n",
    "In our Zomato odyssey, we now turn our attention to the zenith of online dining experiences. With a precision-crafted SQL query, we are on a quest to unveil the crème de la crème of restaurant choices for those who prefer online orders.\n",
    "\n",
    "We've set the stage by selecting restaurants that not only offer online ordering ('Yes') but also boast the highest ratings. These are the dining establishments that have earned the utmost trust and admiration of diners in the digital realm."
   ]
  },
  {
   "cell_type": "code",
   "execution_count": null,
   "id": "bc81ca29",
   "metadata": {},
   "outputs": [],
   "source": [
    "%%sql\n",
    "\n",
    "select name, dish_liked, rating, votes from zomato where online_order='Yes'and rating in (select max(rating) from zomato where online_order='Yes' and type='Delivery') order by votes desc limit 1;"
   ]
  },
  {
   "cell_type": "markdown",
   "id": "870947ca",
   "metadata": {
    "deletable": false,
    "editable": false,
    "run_control": {
     "frozen": true
    }
   },
   "source": [
    "### Task 8: Uncovering Local Flavors.\n",
    "Our journey through Zomato's vast culinary database takes us on a delightful detour, where we seek out the hidden gems that may not be as well-known but are cherished by discerning diners. With a meticulous SQL query, we're in pursuit of these lesser-known culinary treasures.\n",
    "\n",
    "We've set specific criteria—restaurants with ratings surpassing 3, receiving at least 150 votes, and offering no online ordering. These criteria ensure that we uncover dining establishments that have earned their reputation based on the merits of their cuisine and service."
   ]
  },
  {
   "cell_type": "code",
   "execution_count": null,
   "id": "2535db4d",
   "metadata": {},
   "outputs": [],
   "source": [
    "%%sql\n",
    "\n",
    "select name, rating, votes, online_order from zomato where rating>3 and votes>=150 and online_order='No' order by votes desc limit 15;"
   ]
  }
 ],
 "metadata": {
  "kernelspec": {
   "display_name": "Python 3 (ipykernel)",
   "language": "python",
   "name": "python3"
  },
  "language_info": {
   "codemirror_mode": {
    "name": "ipython",
    "version": 3
   },
   "file_extension": ".py",
   "mimetype": "text/x-python",
   "name": "python",
   "nbconvert_exporter": "python",
   "pygments_lexer": "ipython3",
   "version": "3.11.4"
  }
 },
 "nbformat": 4,
 "nbformat_minor": 5
}
